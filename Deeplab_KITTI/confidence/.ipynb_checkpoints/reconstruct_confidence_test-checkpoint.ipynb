{
 "cells": [
  {
   "cell_type": "code",
   "execution_count": 2,
   "metadata": {},
   "outputs": [],
   "source": [
    "from __future__ import absolute_import, division, print_function\n",
    "import tensorflow as tf\n",
    "import glob\n",
    "import os.path\n",
    "import sys\n",
    "import PIL.Image as img\n",
    "import numpy as np\n",
    "from matplotlib import pyplot as plt"
   ]
  },
  {
   "cell_type": "code",
   "execution_count": 3,
   "metadata": {},
   "outputs": [],
   "source": [
    "_FOLDERS_MAP = {\n",
    "    'right': '/home/jiarui/git/Deeplab_KITTI/test/rightvis',\n",
    "    'disparity': '/home/jiarui/git/Deeplab_KITTI/disparity/Disparity',\n",
    "}\n",
    "\n",
    "_PATTERN_MAP = {\n",
    "    'right': '_10_confidence.txt',\n",
    "    'disparity': '_10.png',\n",
    "}"
   ]
  },
  {
   "cell_type": "code",
   "execution_count": 4,
   "metadata": {},
   "outputs": [],
   "source": [
    "def _get_files(data):\n",
    "    pattern = '*%s' % (_PATTERN_MAP[data])\n",
    "    search_files = os.path.join(_FOLDERS_MAP[data], pattern)\n",
    "    filenames = glob.glob(search_files)\n",
    "    return sorted(filenames)"
   ]
  },
  {
   "cell_type": "code",
   "execution_count": 5,
   "metadata": {},
   "outputs": [],
   "source": [
    "right_image_files = _get_files('right')\n",
    "disparity_map_files = _get_files('disparity')\n",
    "num_images = len(right_image_files)"
   ]
  },
  {
   "cell_type": "code",
   "execution_count": 25,
   "metadata": {},
   "outputs": [],
   "source": [
    "i = 0\n",
    "right_image  = np.loadtxt(right_image_files[i])\n",
    "disparity_map  = tf.image.decode_png(tf.read_file(disparity_map_files[i]))\n",
    "disparity_map  = tf.image.convert_image_dtype(disparity_map,  tf.uint8)\n",
    "disparity_map = tf.cast(disparity_map, tf.float32)\n",
    "#disparity_map = tf.divide(disparity_map, 256.0)\n",
    "disparity_map = disparity_map * 228.0 / 255.0"
   ]
  },
  {
   "cell_type": "code",
   "execution_count": 26,
   "metadata": {},
   "outputs": [
    {
     "data": {
      "text/plain": [
       "(375, 1242)"
      ]
     },
     "execution_count": 26,
     "metadata": {},
     "output_type": "execute_result"
    }
   ],
   "source": [
    "np.shape(right_image)"
   ]
  },
  {
   "cell_type": "code",
   "execution_count": null,
   "metadata": {},
   "outputs": [],
   "source": []
  },
  {
   "cell_type": "code",
   "execution_count": 11,
   "metadata": {},
   "outputs": [],
   "source": [
    "right_image = tf.convert_to_tensor(right_image, dtype = tf.float64)"
   ]
  },
  {
   "cell_type": "code",
   "execution_count": 13,
   "metadata": {},
   "outputs": [
    {
     "name": "stdout",
     "output_type": "stream",
     "text": [
      "[7.20072842 8.24654865 9.29236889 ... 8.72027111 7.87431669 7.02846622]\n"
     ]
    }
   ],
   "source": [
    "sess = tf.Session()\n",
    "print(sess.run(tf.reshape(right_image, [-1])))"
   ]
  },
  {
   "cell_type": "code",
   "execution_count": 7,
   "metadata": {},
   "outputs": [],
   "source": [
    "depth_map = tf.divide(1.0, disparity_map) "
   ]
  },
  {
   "cell_type": "code",
   "execution_count": 23,
   "metadata": {},
   "outputs": [
    {
     "name": "stdout",
     "output_type": "stream",
     "text": [
      "[[0]\n",
      " [0]\n",
      " [0]\n",
      " [0]\n",
      " [0]\n",
      " [0]\n",
      " [0]\n",
      " [0]\n",
      " [0]\n",
      " [0]\n",
      " [0]\n",
      " [0]\n",
      " [0]\n",
      " [0]\n",
      " [0]\n",
      " [0]\n",
      " [0]\n",
      " [0]\n",
      " [0]\n",
      " [0]\n",
      " [0]\n",
      " [0]]\n",
      "[22  1]\n",
      "[ 267  319  484  538  630 1016 1026 1032 1039 1044 1048 1049 1050 1052\n",
      " 1053 1059 1065 1070 1075 1086 1092 1102]\n"
     ]
    },
    {
     "data": {
      "text/plain": [
       "22"
      ]
     },
     "execution_count": 23,
     "metadata": {},
     "output_type": "execute_result"
    }
   ],
   "source": [
    "ind = [267, 319, 484, 538, 630, 1016, 1026, 1032, 1039, 1044, 1048, 1049, 1050, 1052, 1053, 1059, 1065, 1070, 1075, 1086, 1092, 1102]\n",
    "ind_tensor = tf.convert_to_tensor(ind, tf.int32)\n",
    "vals = tf.tile([[0]], multiples = [np.shape(ind)[0],1])\n",
    "print(sess.run(vals))\n",
    "print(sess.run(ind_tensor))\n"
   ]
  },
  {
   "cell_type": "code",
   "execution_count": 27,
   "metadata": {},
   "outputs": [
    {
     "data": {
      "text/plain": [
       "<tf.Tensor 'LinSpace:0' shape=(100,) dtype=float32>"
      ]
     },
     "execution_count": 27,
     "metadata": {},
     "output_type": "execute_result"
    }
   ],
   "source": [
    "tf.linspace(0.0,   100 - 1.0,  100)"
   ]
  },
  {
   "cell_type": "code",
   "execution_count": 24,
   "metadata": {},
   "outputs": [
    {
     "ename": "AttributeError",
     "evalue": "'Tensor' object has no attribute '_lazy_read'",
     "output_type": "error",
     "traceback": [
      "\u001b[0;31m---------------------------------------------------------------------------\u001b[0m",
      "\u001b[0;31mAttributeError\u001b[0m                            Traceback (most recent call last)",
      "\u001b[0;32m<ipython-input-24-a7ad773b5b43>\u001b[0m in \u001b[0;36m<module>\u001b[0;34m()\u001b[0m\n\u001b[0;32m----> 1\u001b[0;31m \u001b[0mnew\u001b[0m \u001b[0;34m=\u001b[0m \u001b[0mtf\u001b[0m\u001b[0;34m.\u001b[0m\u001b[0mscatter_update\u001b[0m\u001b[0;34m(\u001b[0m\u001b[0mright_image\u001b[0m\u001b[0;34m,\u001b[0m \u001b[0mind_tensor\u001b[0m\u001b[0;34m,\u001b[0m \u001b[0mvals\u001b[0m\u001b[0;34m)\u001b[0m\u001b[0;34m\u001b[0m\u001b[0m\n\u001b[0m",
      "\u001b[0;32m~/.local/lib/python3.5/site-packages/tensorflow/python/ops/state_ops.py\u001b[0m in \u001b[0;36mscatter_update\u001b[0;34m(ref, indices, updates, use_locking, name)\u001b[0m\n\u001b[1;32m    357\u001b[0m     return gen_state_ops.scatter_update(ref, indices, updates,\n\u001b[1;32m    358\u001b[0m                                         use_locking=use_locking, name=name)\n\u001b[0;32m--> 359\u001b[0;31m   return ref._lazy_read(gen_resource_variable_ops.resource_scatter_update(  # pylint: disable=protected-access\n\u001b[0m\u001b[1;32m    360\u001b[0m       \u001b[0mref\u001b[0m\u001b[0;34m.\u001b[0m\u001b[0mhandle\u001b[0m\u001b[0;34m,\u001b[0m \u001b[0mindices\u001b[0m\u001b[0;34m,\u001b[0m \u001b[0mops\u001b[0m\u001b[0;34m.\u001b[0m\u001b[0mconvert_to_tensor\u001b[0m\u001b[0;34m(\u001b[0m\u001b[0mupdates\u001b[0m\u001b[0;34m,\u001b[0m \u001b[0mref\u001b[0m\u001b[0;34m.\u001b[0m\u001b[0mdtype\u001b[0m\u001b[0;34m)\u001b[0m\u001b[0;34m,\u001b[0m\u001b[0;34m\u001b[0m\u001b[0m\n\u001b[1;32m    361\u001b[0m       name=name))\n",
      "\u001b[0;31mAttributeError\u001b[0m: 'Tensor' object has no attribute '_lazy_read'"
     ]
    }
   ],
   "source": [
    "new = tf.scatter_update(right_image, ind_tensor, vals)"
   ]
  },
  {
   "cell_type": "code",
   "execution_count": null,
   "metadata": {},
   "outputs": [],
   "source": [
    "def bilinear_sampler_1d_h(input_images, x_offset, depth_map, wrap_mode='edge', name='bilinear_sampler', **kwargs):\n",
    "    def _repeat(x, n_repeats):\n",
    "        with tf.variable_scope('_repeat'):\n",
    "            rep = tf.tile(tf.expand_dims(x, 1), [1, n_repeats])\n",
    "            return tf.reshape(rep, [-1])\n",
    "\n",
    "    def _map(x_t_row_array, depth_row_array):\n",
    "        ind = np.array([], dtype = 'int32')\n",
    "        x_t_row_list = x_t_row_array.tolist()\n",
    "        depth_row_list = depth_row_array.tolist()\n",
    "        #print(x_t_row_array)\n",
    "        for item in list(set(x_t_row_list)):\n",
    "            if x_t_row_list.count(item) > 1:\n",
    "                idx = np.where(x_t_row_array==item)[0]\n",
    "                #print(idx)\n",
    "                #print(item)\n",
    "                minval = np.min(depth_row_array[idx])\n",
    "                #print(minval)\n",
    "                idx = idx[np.where(depth_row_array[idx] != minval)]\n",
    "                ind = np.concatenate((ind,idx))\n",
    "                print(ind)\n",
    "        return sorted(ind)\n",
    "\n",
    "    def _interpolate(im, x, y):\n",
    "        with tf.variable_scope('_interpolate'):\n",
    "\n",
    "            # handle both texture border types\n",
    "            _edge_size = 0\n",
    "            if _wrap_mode == 'border':\n",
    "                _edge_size = 1\n",
    "                im = tf.pad(im, [[1, 1], [1, 1], [0, 0]], mode='CONSTANT')\n",
    "                x = x + _edge_size\n",
    "                y = y + _edge_size\n",
    "            elif _wrap_mode == 'edge':\n",
    "                _edge_size = 0\n",
    "            else:\n",
    "                return None\n",
    "\n",
    "            x = tf.clip_by_value(x, 0.0,  _width_f - 1 + 2 * _edge_size)\n",
    "\n",
    "            x0_f = tf.floor(x)\n",
    "            y0_f = tf.floor(y)\n",
    "            x1_f = x0_f + 1\n",
    "\n",
    "            x0 = tf.cast(x0_f, tf.int32)\n",
    "            y0 = tf.cast(y0_f, tf.int32)\n",
    "\n",
    "            #x0_stack = tf.reshape(x0, [_height, _width])\n",
    "            #depth_map_stack = tf.reshape(_depth_map, [_height, _width])\n",
    "            #depth_map_stack = tf.cast(depth_map_stack, tf.int32)\n",
    "            #sess = tf.Session()\n",
    "            #x0_array = sess.run(x0_stack)\n",
    "            #depth_array = sess.run(depth_map_stack)\n",
    "            #print(x0_array)\n",
    "            #print(depth_array)\n",
    "\n",
    "            #ind = np.array([], dtype = 'int32')\n",
    "            #for i in np.arange(1024):\n",
    "            #    val = _map(x0_array[i], depth_array[i])\n",
    "            #    ind = np.concatenate((ind, val + i*2048))\n",
    "\n",
    "            #ind = [i for i in ind if list(ind).count(i+1)>0 or list(ind).count(i-1)>0]\n",
    "            #ind = np.asarray(ind, dtype = np.int32)\n",
    "\n",
    "            x1 = tf.cast(tf.minimum(x1_f,  _width_f - 1 + 2 * _edge_size), tf.int32)\n",
    "\n",
    "            dim2 = (_width + 2 * _edge_size)\n",
    "            dim1 = (_width + 2 * _edge_size) * (_height + 2 * _edge_size)\n",
    "            # base = _repeat(tf.range(1) * dim1, _height * _width)\n",
    "            # base = tf.reshape(tf.tile(tf.expand_dims(tf.range(1), 1), [1, _height * _width]), [-1])\n",
    "            base = tf.zeros([1, _height * _width], tf.int32)\n",
    "            base = tf.reshape(base, [-1])\n",
    "            base_y0 = base + y0 * dim2\n",
    "            idx_l = base_y0 + x0\n",
    "            idx_r = base_y0 + x1\n",
    "\n",
    "            im_flat = tf.reshape(im, tf.stack([-1, _num_channels]))\n",
    "\n",
    "            #im_flat_handle = tf.Variable(im_flat, validate_shape = False)\n",
    "            #vals = tf.tile([[0, 0, 0]], multiples = [np.shape(ind)[0],1])\n",
    "            #vals = tf.cast(vals, tf.float32)\n",
    "            #ind_tensor = tf.convert_to_tensor(ind, tf.int32)\n",
    "            #im_flat = tf.scatter_update(im_flat_handle, ind_tensor, vals)\n",
    "\n",
    "            pix_l = tf.gather(im_flat, idx_l)\n",
    "            pix_r = tf.gather(im_flat, idx_r)\n",
    "\n",
    "            weight_l = tf.expand_dims(x1_f - x, 1)\n",
    "            weight_r = tf.expand_dims(x - x0_f, 1)\n",
    "\n",
    "            #return weight_l * pix_l + weight_r * pix_r, ind\n",
    "            return weight_l * pix_l + weight_r * pix_r\n",
    "\n",
    "    def _transform(input_images, x_offset):\n",
    "        with tf.variable_scope('transform'):\n",
    "            # grid of (x_t, y_t, 1), eq (1) in ref [1]\n",
    "            x_t, y_t = tf.meshgrid(tf.linspace(0.0,   _width_f - 1.0,  _width),\n",
    "                                   tf.linspace(0.0 , _height_f - 1.0 , _height))\n",
    "\n",
    "            x_t_flat = tf.reshape(x_t, [-1])\n",
    "            y_t_flat = tf.reshape(y_t, [-1])\n",
    "\n",
    "\n",
    "            x_offset_unlabel_idx = tf.reshape(tf.where(tf.less_equal(tf.reshape(x_offset, [-1]), 0)), [-1])\n",
    "\n",
    "            #sess = tf.Session()\n",
    "            #print(sess.run(tf.shape(x_t_flat )[0]))\n",
    "            #print(sess.run(tf.shape(x_offset)[1]))\n",
    "            #print(sess.run(tf.shape(tf.reshape(x_offset, [-1]))[0]))\n",
    "            x_t_flat = x_t_flat - tf.reshape(x_offset, [-1])\n",
    "            #x_t_flat = x_t_flat - tf.reshape(x_offset, [-1]) * _width_f\n",
    "\n",
    "            x_t_flat_clip = tf.clip_by_value(x_t_flat, 0.0,  _width_f - 1)\n",
    "            x0_stack = tf.reshape(x_t_flat_clip, [_height, _width])\n",
    "            depth_map_stack = tf.reshape(_depth_map, [_height, _width])\n",
    "            sess = tf.Session()\n",
    "            x0_array = sess.run(x0_stack)\n",
    "            depth_array = sess.run(depth_map_stack)\n",
    "            x0_array = np.floor(x0_array)\n",
    "            #print(x0_array)\n",
    "            #print(depth_array)\n",
    "\n",
    "            width_val = sess.run(_width)\n",
    "            height_val = sess.run(_height)\n",
    "\n",
    "            ind = np.array([], dtype = 'int32')\n",
    "            for i in np.arange(height_val):\n",
    "                val = _map(x0_array[i], depth_array[i])\n",
    "                ind = np.concatenate((ind, val + i*width_val))\n",
    "\n",
    "\n",
    "            #input_transformed, ind = _interpolate(input_images, x_t_flat, y_t_flat)\n",
    "            input_transformed = _interpolate(input_images, x_t_flat, y_t_flat)\n",
    "\n",
    "            print(ind)\n",
    "\n",
    "            # Mark pixel with disparity<0 as unlabeled\n",
    "            #input_transformed_handle = tf.Variable(input_transformed, validate_shape = False)\n",
    "            #vals = tf.tile([[0, 0, 0]], multiples = [tf.shape(x_offset_unlabel_idx)[0],1])\n",
    "            #vals = tf.cast(vals, tf.float32)\n",
    "            #input_transformed_new = tf.scatter_update(input_transformed_handle, x_offset_unlabel_idx, vals)\n",
    "            #output = tf.reshape(input_transformed_new, tf.stack([_height, _width, _num_channels]))\n",
    "\n",
    "            #x_unlabel_array = sess.run(x_offset_unlabel_idx)\n",
    "            #print(x_unlabel_array)\n",
    "            #ind = np.concatenate((ind, x_unlabel_array))\n",
    "            #ind = np.asarray(list(set(ind)))\n",
    "\n",
    "            input_transformed_handle = tf.Variable(input_transformed, validate_shape = False)\n",
    "            vals = tf.tile([[0, 0, 0]], multiples = [np.shape(ind)[0],1])\n",
    "            vals = tf.cast(vals, tf.float32)\n",
    "            ind_tensor = tf.convert_to_tensor(ind, tf.int32)\n",
    "            input_transformed_new = tf.scatter_update(input_transformed_handle, ind_tensor, vals)\n",
    "            output = tf.reshape(input_transformed_new, tf.stack([_height, _width, _num_channels]))\n",
    "\n",
    "            #image_mask = np.zeros([width_val*height_val], dtype = np.uint8)\n",
    "            #image_mask[ind] = 1\n",
    "            #image_mask = np.reshape(image_mask, [height_val, width_val])\n",
    "            #sess.run(tf.global_variables_initializer())\n",
    "            #image_output = tf.image.convert_image_dtype(output, dtype = tf.uint8)\n",
    "            #image_output = sess.run(image_output)\n",
    "\n",
    "\n",
    "            #output = tf.reshape(input_transformed, tf.stack([_height, _width, _num_channels]))\n",
    "            return output\n",
    "\n",
    "    with tf.variable_scope(name):\n",
    "        # _num_batch    = tf.shape(input_images)[0]\n",
    "        _height       = tf.shape(input_images)[0]\n",
    "        _width        = tf.shape(input_images)[1]\n",
    "\n",
    "        _height_f = tf.cast(_height, tf.float32)\n",
    "        _width_f  = tf.cast(_width,  tf.float32)\n",
    "\n",
    "        _wrap_mode = wrap_mode\n",
    "\n",
    "        _depth_map = depth_map\n",
    "\n",
    "        output = _transform(input_images, x_offset)\n",
    "        return output"
   ]
  }
 ],
 "metadata": {
  "kernelspec": {
   "display_name": "Python 3",
   "language": "python",
   "name": "python3"
  },
  "language_info": {
   "codemirror_mode": {
    "name": "ipython",
    "version": 3
   },
   "file_extension": ".py",
   "mimetype": "text/x-python",
   "name": "python",
   "nbconvert_exporter": "python",
   "pygments_lexer": "ipython3",
   "version": "3.5.2"
  }
 },
 "nbformat": 4,
 "nbformat_minor": 2
}
