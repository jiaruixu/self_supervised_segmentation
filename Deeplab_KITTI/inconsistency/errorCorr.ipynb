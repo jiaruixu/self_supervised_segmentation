{
 "cells": [
  {
   "cell_type": "code",
   "execution_count": 13,
   "metadata": {},
   "outputs": [],
   "source": [
    "import PIL.Image as img\n",
    "import tensorflow as tf\n",
    "import numpy as np\n",
    "from matplotlib import pyplot as plt\n",
    "import os.path\n",
    "import glob\n",
    "from xlwt import *"
   ]
  },
  {
   "cell_type": "code",
   "execution_count": 14,
   "metadata": {},
   "outputs": [],
   "source": [
    "from xlrd import *"
   ]
  },
  {
   "cell_type": "code",
   "execution_count": 15,
   "metadata": {},
   "outputs": [],
   "source": [
    "wb = open_workbook('/home/jiarui/git/Deeplab_KITTI/inconsistency/data.xlsx')"
   ]
  },
  {
   "cell_type": "code",
   "execution_count": null,
   "metadata": {},
   "outputs": [],
   "source": [
    "sh = wb.sheet_by_index(0)"
   ]
  },
  {
   "cell_type": "code",
   "execution_count": 23,
   "metadata": {},
   "outputs": [],
   "source": [
    "name = sh.col_values(0,1)"
   ]
  },
  {
   "cell_type": "code",
   "execution_count": 24,
   "metadata": {},
   "outputs": [],
   "source": [
    "re_pre = sh.col_values(5,1)"
   ]
  },
  {
   "cell_type": "code",
   "execution_count": 25,
   "metadata": {},
   "outputs": [],
   "source": [
    "pre_gt = sh.col_values(6,1)"
   ]
  },
  {
   "cell_type": "code",
   "execution_count": 27,
   "metadata": {},
   "outputs": [
    {
     "data": {
      "text/plain": [
       "array([  0,   1,   2,   3,   4,   5,   6,   7,   8,   9,  10,  11,  12,\n",
       "        13,  14,  15,  16,  17,  18,  19,  20,  21,  22,  23,  24,  25,\n",
       "        26,  27,  28,  29,  30,  31,  32,  33,  34,  35,  36,  37,  38,\n",
       "        39,  40,  41,  42,  43,  44,  45,  46,  47,  48,  49,  50,  51,\n",
       "        52,  53,  54,  55,  56,  57,  58,  59,  60,  61,  62,  63,  64,\n",
       "        65,  66,  67,  68,  69,  70,  71,  72,  73,  74,  75,  76,  77,\n",
       "        78,  79,  80,  81,  82,  83,  84,  85,  86,  87,  88,  89,  90,\n",
       "        91,  92,  93,  94,  95,  96,  97,  98,  99, 100, 101, 102, 103,\n",
       "       104, 105, 106, 107, 108, 109, 110, 111, 112, 113, 114, 115, 116,\n",
       "       117, 118, 119, 120, 121, 122, 123, 124, 125, 126, 127, 128, 129,\n",
       "       130, 131, 132, 133, 134, 135, 136, 137, 138, 139, 140, 141, 142,\n",
       "       143, 144, 145, 146, 147, 148, 149, 150, 151, 152, 153, 154, 155,\n",
       "       156, 157, 158, 159, 160, 161, 162, 163, 164, 165, 166, 167, 168,\n",
       "       169, 170, 171, 172, 173, 174, 175, 176, 177, 178, 179, 180, 181,\n",
       "       182, 183, 184, 185, 186, 187, 188, 189, 190, 191, 192, 193, 194,\n",
       "       195, 196, 197, 198, 199])"
      ]
     },
     "execution_count": 27,
     "metadata": {},
     "output_type": "execute_result"
    }
   ],
   "source": [
    "np.arange(len(name))"
   ]
  },
  {
   "cell_type": "code",
   "execution_count": 32,
   "metadata": {},
   "outputs": [
    {
     "data": {
      "image/png": "[encoded data removed]",
      "text/plain": [
       "<Figure size 432x288 with 1 Axes>"
      ]
     },
     "metadata": {},
     "output_type": "display_data"
    }
   ],
   "source": [
    "num = len(name)\n",
    "bar_width = 1\n",
    "index = np.arange(num)\n",
    "plt.figure()\n",
    "plt.bar(index, sorted(re_pre), bar_width)\n",
    "plt.xticks(index+bar_width, np.argsort(re_pre))\n",
    "plt.show()"
   ]
  },
  {
   "cell_type": "code",
   "execution_count": 41,
   "metadata": {},
   "outputs": [
    {
     "data": {
      "text/plain": [
       "array([  0,  10,  20,  30,  40,  50,  60,  70,  80,  90, 100, 110, 120,\n",
       "       130, 140, 150, 160, 170, 180, 190])"
      ]
     },
     "execution_count": 41,
     "metadata": {},
     "output_type": "execute_result"
    }
   ],
   "source": [
    "ind_sort = np.argsort(re_pre)\n",
    "ind_show = ind_sort[::10]\n",
    "index_show = index[::10]\n",
    "index_show"
   ]
  },
  {
   "cell_type": "code",
   "execution_count": 35,
   "metadata": {},
   "outputs": [
    {
     "data": {
      "text/plain": [
       "[0.025013422818791948,\n",
       " 0.021814317673378075,\n",
       " 0.024984340044742728,\n",
       " 0.023532438478747204,\n",
       " 0.019407158836689038,\n",
       " 0.028888143176733782,\n",
       " 0.023498881431767336,\n",
       " 0.05247203579418345,\n",
       " 0.03399552572706935,\n",
       " 0.02327069351230425,\n",
       " 0.034172259507829976,\n",
       " 0.023201342281879193,\n",
       " 0.029422818791946307,\n",
       " 0.0306420581655481,\n",
       " 0.0372841163310962,\n",
       " 0.04598434004474273,\n",
       " 0.04275167785234899,\n",
       " 0.050315436241610736,\n",
       " 0.023333333333333334,\n",
       " 0.05250111856823266,\n",
       " 0.02166890380313199,\n",
       " 0.04256599552572707,\n",
       " 0.04305369127516778,\n",
       " 0.036845637583892615,\n",
       " 0.046384787472035796,\n",
       " 0.03714093959731544,\n",
       " 0.05863758389261745,\n",
       " 0.060049217002237136,\n",
       " 0.05689709172259508,\n",
       " 0.06480536912751678,\n",
       " 0.06144519015659955,\n",
       " 0.04092393736017897,\n",
       " 0.08868456375838926,\n",
       " 0.03652348993288591,\n",
       " 0.052751677852348994,\n",
       " 0.04794407158836689,\n",
       " 0.04364653243847875,\n",
       " 0.06174049217002237,\n",
       " 0.0492930648769575,\n",
       " 0.0443758389261745,\n",
       " 0.046420581655480984,\n",
       " 0.06421476510067115,\n",
       " 0.02138702460850112,\n",
       " 0.10316107382550335,\n",
       " 0.06152348993288591,\n",
       " 0.07694183445190157,\n",
       " 0.07859060402684563,\n",
       " 0.05516331096196868,\n",
       " 0.054436241610738255,\n",
       " 0.07308053691275168,\n",
       " 0.055917225950782995,\n",
       " 0.08790156599552573,\n",
       " 0.04372706935123043,\n",
       " 0.06806263982102909,\n",
       " 0.05825503355704698,\n",
       " 0.05027293064876957,\n",
       " 0.07559731543624161,\n",
       " 0.07805145413870246,\n",
       " 0.06527069351230425,\n",
       " 0.026950782997762865,\n",
       " 0.04487919463087248,\n",
       " 0.0564586129753915,\n",
       " 0.07646308724832215,\n",
       " 0.05305816554809843,\n",
       " 0.08808501118568232,\n",
       " 0.07392393736017897,\n",
       " 0.08092841163310963,\n",
       " 0.05250111856823266,\n",
       " 0.060243847874720355,\n",
       " 0.08155704697986577,\n",
       " 0.06750111856823267,\n",
       " 0.06603803131991051,\n",
       " 0.044619686800894856,\n",
       " 0.045941834451901566,\n",
       " 0.08107158836689038,\n",
       " 0.054610738255033556,\n",
       " 0.06514541387024608,\n",
       " 0.05755704697986577,\n",
       " 0.07733109619686801,\n",
       " 0.034011185682326625,\n",
       " 0.042574944071588364,\n",
       " 0.057937360178970915,\n",
       " 0.05870693512304251,\n",
       " 0.0774228187919463,\n",
       " 0.05542729306487696,\n",
       " 0.027250559284116332,\n",
       " 0.04282774049217002,\n",
       " 0.0475413870246085,\n",
       " 0.1036420581655481,\n",
       " 0.09465324384787473,\n",
       " 0.02637136465324385,\n",
       " 0.0806241610738255,\n",
       " 0.09460402684563758,\n",
       " 0.052463087248322146,\n",
       " 0.05506935123042506,\n",
       " 0.08071364653243848,\n",
       " 0.0984675615212528,\n",
       " 0.0387248322147651,\n",
       " 0.07993736017897092,\n",
       " 0.109082774049217,\n",
       " 0.05068680089485458,\n",
       " 0.04228859060402684,\n",
       " 0.0965324384787472,\n",
       " 0.06220581655480984,\n",
       " 0.0846241610738255,\n",
       " 0.0821275167785235,\n",
       " 0.051174496644295304,\n",
       " 0.024181208053691276,\n",
       " 0.07880313199105145,\n",
       " 0.057328859060402686,\n",
       " 0.06583892617449665,\n",
       " 0.056774049217002236,\n",
       " 0.11051901565995526,\n",
       " 0.10504250559284116,\n",
       " 0.06025055928411633,\n",
       " 0.07239149888143177,\n",
       " 0.05207606263982103,\n",
       " 0.07254586129753915,\n",
       " 0.09485011185682327,\n",
       " 0.10254586129753915,\n",
       " 0.06804921700223714,\n",
       " 0.04793959731543624,\n",
       " 0.08716331096196868,\n",
       " 0.03415883668903803,\n",
       " 0.04868903803131991,\n",
       " 0.06013422818791946,\n",
       " 0.07142505592841163,\n",
       " 0.08058389261744967,\n",
       " 0.0929642058165548,\n",
       " 0.09307606263982103,\n",
       " 0.12090604026845637,\n",
       " 0.05505592841163311,\n",
       " 0.14380984340044742,\n",
       " 0.09899105145413871,\n",
       " 0.04654586129753915,\n",
       " 0.0792662192393736,\n",
       " 0.10157494407158836,\n",
       " 0.06846085011185682,\n",
       " 0.0460917225950783,\n",
       " 0.06861968680089485,\n",
       " 0.10008053691275168,\n",
       " 0.04238255033557047,\n",
       " 0.036483221476510064,\n",
       " 0.08322818791946308,\n",
       " 0.05126398210290828,\n",
       " 0.09489485458612976,\n",
       " 0.09577181208053691,\n",
       " 0.05137136465324385,\n",
       " 0.06542058165548098,\n",
       " 0.10524384787472035,\n",
       " 0.052196868008948544,\n",
       " 0.060451901565995524,\n",
       " 0.1030917225950783,\n",
       " 0.06666219239373601,\n",
       " 0.03771140939597315,\n",
       " 0.0869821029082774,\n",
       " 0.0805771812080537,\n",
       " 0.09257270693512304,\n",
       " 0.06553467561521253,\n",
       " 0.07700671140939597,\n",
       " 0.11223489932885906,\n",
       " 0.08024384787472036,\n",
       " 0.06759284116331096,\n",
       " 0.0640469798657718,\n",
       " 0.05682774049217002,\n",
       " 0.07533780760626398,\n",
       " 0.10155480984340044,\n",
       " 0.06280536912751677,\n",
       " 0.06404921700223713,\n",
       " 0.03740268456375839,\n",
       " 0.07555480984340045,\n",
       " 0.08038702460850111,\n",
       " 0.06829977628635346,\n",
       " 0.10781208053691275,\n",
       " 0.12611633109619685,\n",
       " 0.11259731543624162,\n",
       " 0.06844742729306488,\n",
       " 0.0739552572706935,\n",
       " 0.020957494407158838,\n",
       " 0.09015883668903803,\n",
       " 0.10022818791946309,\n",
       " 0.06548993288590604,\n",
       " 0.10971140939597315,\n",
       " 0.08000671140939597,\n",
       " 0.12003579418344519,\n",
       " 0.071751677852349,\n",
       " 0.04957718120805369,\n",
       " 0.08334228187919462,\n",
       " 0.11130872483221477,\n",
       " 0.2035950782997763,\n",
       " 0.16068232662192394,\n",
       " 0.04555480984340045,\n",
       " 0.10920805369127516,\n",
       " 0.08125503355704698,\n",
       " 0.0457248322147651,\n",
       " 0.02112304250559284,\n",
       " 0.10068456375838926,\n",
       " 0.024434004474272932,\n",
       " 0.11752125279642057,\n",
       " 0.1601208053691275]"
      ]
     },
     "execution_count": 35,
     "metadata": {},
     "output_type": "execute_result"
    }
   ],
   "source": [
    "re_pre_sort = []\n",
    "for i in np.argsort(pre_gt):\n",
    "    re_pre_sort.append(re_pre[i])\n",
    "re_pre_sort"
   ]
  },
  {
   "cell_type": "code",
   "execution_count": 39,
   "metadata": {},
   "outputs": [
    {
     "data": {
      "text/plain": [
       "array([ 85, 184, 134, 136, 135, 138, 139, 131, 140, 133, 185, 137, 183,\n",
       "       132,  76,  60,  75,  19, 161,  87,   6, 165,  64,  86, 141,  70,\n",
       "       166,  10,   8,  11,  12,   7,  30, 157,  71, 167, 159, 172, 146,\n",
       "        72,   0, 150,   5, 149, 194,  18,  45,  17, 160,  52, 109, 122,\n",
       "        41, 144, 170, 181,  47, 186, 180,  61, 190, 110,  48,  15,  50,\n",
       "        53,  51,  35, 113, 187,  28, 117,  62, 106,   9, 171, 116, 182,\n",
       "        46,  77,  69, 105, 112, 107, 114,   4,  73,  27,  14, 155,  68,\n",
       "        43,  90,  16,  74,  44,  13,  79, 115,  42,  81,  40,  22, 120,\n",
       "       123,  82, 151, 188, 143, 129, 108,  78,  95,  91, 158,  23,  99,\n",
       "        84,  33,  59, 156, 189,  93, 101,  37,  36, 142,   2,  92,  94,\n",
       "        49, 163, 173,  96,  80,  26,  89,  67, 100,  39,  97, 147,  65,\n",
       "        20, 162,  24, 199, 178, 153, 103,  38, 130,   3,  88, 128,   1,\n",
       "       168, 119, 124, 175,  31, 111,  29, 152, 195, 148, 126, 102,  21,\n",
       "       192,  32, 177, 174,  98, 127,  25, 176, 193,  63,  58, 191, 179,\n",
       "       118, 125,  57, 121,  66,  34, 197, 164, 198,  56,  83, 154, 145,\n",
       "        55, 196,  54, 169, 104])"
      ]
     },
     "execution_count": 39,
     "metadata": {},
     "output_type": "execute_result"
    }
   ],
   "source": [
    "np.argsort(pre_gt)"
   ]
  },
  {
   "cell_type": "code",
   "execution_count": null,
   "metadata": {},
   "outputs": [],
   "source": []
  }
 ],
 "metadata": {
  "kernelspec": {
   "display_name": "Python 3",
   "language": "python",
   "name": "python3"
  },
  "language_info": {
   "codemirror_mode": {
    "name": "ipython",
    "version": 3
   },
   "file_extension": ".py",
   "mimetype": "text/x-python",
   "name": "python",
   "nbconvert_exporter": "python",
   "pygments_lexer": "ipython3",
   "version": "3.5.2"
  }
 },
 "nbformat": 4,
 "nbformat_minor": 2
}
